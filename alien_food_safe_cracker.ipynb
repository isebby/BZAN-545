{
 "cells": [
  {
   "cell_type": "markdown",
   "metadata": {},
   "source": [
    "<center><img width=\"30%\" src=\"https://i.imgur.com/JWg419C.png\" style=\"border-radius:20px\"></center>"
   ]
  },
  {
   "cell_type": "markdown",
   "metadata": {},
   "source": [
    "# Feed the aliens 👽 🔒 🍔\n",
    "\n",
    "Crack a safe to save the world."
   ]
  },
  {
   "cell_type": "markdown",
   "metadata": {},
   "source": [
    "\n",
    "## Context (beware... it's super realistic and scary*)\n",
    "\n",
    "**You need to get into a safe and fast!!**\n",
    "\n",
    "Turns out the totally real aliens 👽 in the news recently are hangry and the only meal that will appease them is.... locked away.\n",
    "\n",
    "The incarcerated forbidden fruit was locked up long ago since humans can't handle the perfection of the dish. When our mere mortal tastebuds make contact with the flavors we are driven insane...\n",
    "\n",
    "Unfortunately, the combination to the curious calorie container was only known by one person... and... she is nowhere to be found :(\n",
    "  \n",
    "As a failsafe, she left clues to discover the digits of the code. Luckily for us, the clues are in the form of.... data manipulation exercises!! WOOOOOO!!!!!!!!!!!!! WOOOOOOOOOOOOOOOO!!!!!!!!!!!!!!!!!!! ... i mean ... AHHHHHHHH!! 😱 😱 "
   ]
  },
  {
   "cell_type": "markdown",
   "metadata": {},
   "source": [
    "## Instructions\n",
    "\n",
    "* Each clue below will guide you to some numbers\n",
    "* Combine the numbers in their clue order to form a combination\n",
    "  * Eg if clue 1 led me to the number `99` and clue 2 led me to the number `7` my combination so far would be `997`\n",
    "* Test out your combination [here](https://spannbaueradam.shinyapps.io/alien-feeder-combo/)\n",
    "* First group to show me the victory screen wins"
   ]
  },
  {
   "cell_type": "markdown",
   "metadata": {},
   "source": [
    "## Installing and importing some packages"
   ]
  },
  {
   "cell_type": "code",
   "execution_count": null,
   "metadata": {},
   "outputs": [],
   "source": [
    "# uncomment and run 1 of the below to install\n",
    "# !pip install sqlalchemy pymysql pandas\n",
    "# !pip3 install sqlalchemy pymysql pandas\n",
    "# !python -m pip install sqlalchemy pymysql pandas\n",
    "# !python3 -m pip3 install sqlalchemy pymysql pandas\n",
    "import json\n",
    "import sqlalchemy\n",
    "import pandas as pd\n",
    "\n",
    "# pymysql is not explicitly used but needed\n",
    "import pymysql"
   ]
  },
  {
   "cell_type": "markdown",
   "metadata": {},
   "source": [
    "You only need `pandas` for this exercise.  If the installations of any of the others fail:\n",
    "* Comment out their `import` lines\n",
    "* Skip/comment out the SQL code chunks\n",
    "* Scroll down to the read CSV chunks"
   ]
  },
  {
   "cell_type": "code",
   "execution_count": null,
   "metadata": {},
   "outputs": [],
   "source": [
    "pd.options.display.max_columns = 100"
   ]
  },
  {
   "cell_type": "markdown",
   "metadata": {},
   "source": [
    "## Reading data\n",
    "\n",
    "<center><img width=\"30%\" src=\"https://i.imgur.com/I75y41p.png\" style=\"border-radius:20px\"></center>\n",
    "\n",
    "### From SQL\n",
    "\n",
    "***WARNING***: In practice, don't go making your own credentials.json files like we do below. Talk to someone on your security team about how to connect.\n",
    "\n",
    "Create a file named `credentials.json` in your notebooks working directory to hold SQL server information.  If you are working in a git repo, be sure to add `credentials.json` to the `.gitignore` file so that you don't accidentally publish your username and password online.\n",
    "\n",
    "You can also avoid saving the file in a git repo at all and change the file path in the code that uses `credentials.json` below.\n",
    "\n",
    "The format of `credentials.json`:\n",
    "\n",
    "```json\n",
    "{\n",
    "  \"host\": \"my.host.edu\",\n",
    "  \"port\": 3306,\n",
    "  \"username\": \"myusername\",\n",
    "  \"password\": \"*********\"\n",
    "}\n",
    "```\n",
    "\n",
    "Note: you have to be on UTK wifi or VPN to connect to the UTK MySQL server."
   ]
  },
  {
   "cell_type": "code",
   "execution_count": null,
   "metadata": {},
   "outputs": [],
   "source": [
    "# Connecting to the DB\n",
    "with open(\"credentials.json\") as fp:\n",
    "    server_details = json.load(fp)\n",
    "\n",
    "server_details[\"database\"] = \"aspannba_stackexchange\"\n",
    "\n",
    "# Connect to db with pymysql driver\n",
    "connection_string = sqlalchemy.URL.create(\"mysql+pymysql\", **server_details)\n",
    "engine = sqlalchemy.create_engine(connection_string)"
   ]
  },
  {
   "cell_type": "markdown",
   "metadata": {},
   "source": [
    "There are different ways to query SQL from python, I use `pd.read_sql()` below.  \n",
    "\n",
    "`posts` is a fairly large table to download this way, the query took almost a minute for me (on my mac on ut wifi).  Might be better to just read it from csv.\n",
    "\n",
    "If the below code fails.  Use CSV files from this zip on canvas: https://utk.instructure.com/courses/180504/files/search?search_term=selectstarfromdb.zip"
   ]
  },
  {
   "cell_type": "code",
   "execution_count": null,
   "metadata": {},
   "outputs": [],
   "source": [
    "# Read\n",
    "users = pd.read_sql(\"SELECT * FROM users;\", engine)\n",
    "posttypes = pd.read_sql(\"SELECT * FROM posttypes;\", engine)\n",
    "\n",
    "# Uncomment if you dare; can take about a minute to run\n",
    "posts = pd.read_sql(\"SELECT * FROM posts;\", engine)\n",
    "\n",
    "# Tidy up\n",
    "engine.dispose()"
   ]
  },
  {
   "cell_type": "code",
   "execution_count": null,
   "metadata": {},
   "outputs": [],
   "source": [
    "# Consider writing the posts df to file for quicker runs while working\n",
    "# posts.to_csv(\"localposts.csv\", index=False)"
   ]
  },
  {
   "cell_type": "markdown",
   "metadata": {},
   "source": [
    "### From CSV\n",
    "\n",
    "<center><img width=\"30%\" src=\"https://i.imgur.com/upNw3tR.png\" style=\"border-radius:20px\"></center>\n",
    "\n",
    "Alternatively, read data from CSV. CSVs can be found [here]( https://utk.instructure.com/courses/180504/files/search?search_term=selectstarfromdb.zip) (be sure to unzip)."
   ]
  },
  {
   "cell_type": "code",
   "execution_count": null,
   "metadata": {},
   "outputs": [],
   "source": [
    "# The names of the files to read:\n",
    "\"selectstarfromusers.csv\"\n",
    "\"selectstarfromposts.csv\"\n",
    "\"selectstarfromposttypes.csv\"\n",
    "\n",
    "# Write your reading code here:\n",
    "# posts =\n",
    "# users =\n",
    "# posttypes ="
   ]
  },
  {
   "cell_type": "markdown",
   "metadata": {},
   "source": [
    "## Start figuring out the combination!!\n",
    "\n",
    "<center><img width=\"30%\" src=\"https://i.imgur.com/Lobbz9e.png\" style=\"border-radius:20px\"></center>\n",
    "\n",
    "### Instructions again\n",
    "\n",
    "* Each clue below will guide you to some numbers\n",
    "* Combine the numbers in their clue order to form a combination\n",
    "  * Eg if clue 1 led me to the number `99` and clue 2 led me to the number `7` my combination so far would be `997`\n",
    "* Test out your combination [here](https://spannbaueradam.shinyapps.io/alien-feeder-combo/)\n",
    "* First group to show me the victory screen wins"
   ]
  },
  {
   "cell_type": "markdown",
   "metadata": {},
   "source": [
    "### Clue 1\n",
    "\n",
    "Get to know the data for some digits to the combination.\n",
    "\n",
    "Write code that shows the number of columns in the three tables: `users`, `posts`, & `posttypes`.\n",
    "\n",
    "**Your digits**: Write down the total number of columns across all 3 tables as digits for the combination."
   ]
  },
  {
   "cell_type": "code",
   "execution_count": null,
   "metadata": {},
   "outputs": [],
   "source": []
  },
  {
   "cell_type": "markdown",
   "metadata": {},
   "source": [
    "<center><img width=\"30%\" src=\"https://i.imgur.com/v8L8ecE.png\" style=\"border-radius:20px\"></center>"
   ]
  },
  {
   "cell_type": "markdown",
   "metadata": {},
   "source": [
    "### Clue 2\n",
    "\n",
    "Find the table that has a column named `ViewCount`.\n",
    "\n",
    "Find the top 3 most viewed records according to that `ViewCount` column.\n",
    "\n",
    "**Your digits:** Add up and write down the `FavoriteCount`s of these 3 records (integer; truncate any decimal)"
   ]
  },
  {
   "cell_type": "code",
   "execution_count": null,
   "metadata": {},
   "outputs": [],
   "source": []
  },
  {
   "cell_type": "markdown",
   "metadata": {},
   "source": [
    "<center><img width=\"30%\" src=\"https://i.imgur.com/CftqkjG.png\" style=\"border-radius:20px\"></center>"
   ]
  },
  {
   "cell_type": "markdown",
   "metadata": {},
   "source": [
    "### Clue 3\n",
    "\n",
    "We only have samples of the `posts` and `users` dataframes, and it turns out the majority of the post owners don't exist in our `users` table.\n",
    "\n",
    "Create a version of `posts` that just has `OwnerUserId`s that can be found in our `users` table.\n",
    "\n",
    "**Your digits**: Find the number of rows in `posts` that have a matching `users` record via `OwnerUserId`. Write down the digit in the ones place of the number (ie `123` I'd write down `3`)"
   ]
  },
  {
   "cell_type": "code",
   "execution_count": null,
   "metadata": {},
   "outputs": [],
   "source": []
  },
  {
   "cell_type": "markdown",
   "metadata": {},
   "source": [
    "<center><img width=\"30%\" src=\"https://i.imgur.com/Hpx68ce.png\" style=\"border-radius:20px\"></center>"
   ]
  },
  {
   "cell_type": "markdown",
   "metadata": {},
   "source": [
    "### Clue 4\n",
    "\n",
    "What's are the most common locations* for users?\n",
    "\n",
    "*Exclude `Location`s that have commas in them\n",
    "\n",
    "IMPORTANT - Don't modify the location data outside of casing:\n",
    "* ie `US` and `USA` and `United States` will count as different\n",
    "* ie `new york` and `NEW YORK` and `New York` should all count as the same\n",
    "\n",
    "**Your digits**: Which of the top 3 most popular locations most recently hosted the summer olympics? Find out which summer olympics that is, and write down the number of gold medals France won in that Olympics."
   ]
  },
  {
   "cell_type": "code",
   "execution_count": null,
   "metadata": {},
   "outputs": [],
   "source": []
  },
  {
   "cell_type": "markdown",
   "metadata": {},
   "source": [
    "<center><img width=\"30%\" src=\"https://i.imgur.com/FiG8sgN.png\" style=\"border-radius:20px\"></center>"
   ]
  },
  {
   "cell_type": "markdown",
   "metadata": {},
   "source": [
    "### Clue 5\n",
    "\n",
    "Man, I could really go for 130000 big macs right now.\n",
    "\n",
    "Two separate posts mention `McDonald's` in the `Body` of the post; find those two records.  \n",
    "\n",
    "Of those two records, find the record with the `Id` closest in value to the number of calories in 130000 big macs (according to the official McDonald's US website).\n",
    "\n",
    "**Your digits**: Write down the `ViewCount` of the post as two digits in your combination."
   ]
  },
  {
   "cell_type": "code",
   "execution_count": null,
   "metadata": {},
   "outputs": [],
   "source": []
  },
  {
   "cell_type": "markdown",
   "metadata": {},
   "source": [
    "<center><img width=\"30%\" src=\"https://i.imgur.com/Ik5f7va.png\" style=\"border-radius:20px\"></center>"
   ]
  },
  {
   "cell_type": "markdown",
   "metadata": {},
   "source": [
    "### Clue 6\n",
    "\n",
    "Find the GitHub username of the user with the most `Views`.\n",
    "\n",
    "You have to get a little hackery to do this one... I'll let you try to creative on your own, but ofc I'll help on request.\n",
    "\n",
    "**Your digits**: Take the fourth letter from the user's GitHub user name (eg if name is `Adam` your letter is `m`).  Write down that letter's position in the alphabet - to be pythonic `A` is at position `0` (eg if the letter is `C` your number is `2`)."
   ]
  },
  {
   "cell_type": "code",
   "execution_count": null,
   "metadata": {},
   "outputs": [],
   "source": []
  },
  {
   "cell_type": "markdown",
   "metadata": {},
   "source": [
    "<center><img width=\"30%\" src=\"https://i.imgur.com/xlW2rg8.png\" style=\"border-radius:20px\"></center>"
   ]
  },
  {
   "cell_type": "markdown",
   "metadata": {},
   "source": [
    "### Clue 7\n",
    "\n",
    "Only consider posts that are tagged with R. As a checkstep, there are `28314` posts tagged with as being about R.\n",
    "\n",
    "Find the user (use `OwnerUserId`) with the highest sum of `Score`s across all their R tagged posts .\n",
    "\n",
    "**Your digits**: Write down the `Reputation` (found in `users`) of our top R user.  If the user isn't present in our `users` table use `0` as your digit.\n"
   ]
  },
  {
   "cell_type": "code",
   "execution_count": null,
   "metadata": {},
   "outputs": [],
   "source": []
  },
  {
   "cell_type": "markdown",
   "metadata": {},
   "source": [
    "<center><img width=\"30%\" src=\"https://i.imgur.com/vEb6WzL.png\" style=\"border-radius:20px\"></center>"
   ]
  },
  {
   "cell_type": "markdown",
   "metadata": {},
   "source": [
    "### Clue 8\n",
    "\n",
    "Was all this worthless? Maybe we could just brute force the safe.\n",
    "\n",
    "The safe has 11 digits total.  We can enter 10 different combinations a second.  How many centuries would it take to try every possible combination? Use 365 as the length of a year, and ignore leap years exist.\n",
    "\n",
    "**Your digits**: Round your number of centuries to the nearest integer and format it as two digits (eg zero would become `00`, one would become `01`, etc; if your answer is 100 or greater, use `99` as your answer)"
   ]
  },
  {
   "cell_type": "code",
   "execution_count": null,
   "metadata": {},
   "outputs": [],
   "source": []
  },
  {
   "cell_type": "markdown",
   "metadata": {},
   "source": [
    "#### <center>Go to the below website to test your combination</center>\n",
    "\n",
    "<center><a href=\"https://spannbaueradam.shinyapps.io/alien-feeder-combo/\">https://spannbaueradam.shinyapps.io/alien-feeder-combo/</a></center>"
   ]
  }
 ],
 "metadata": {
  "kernelspec": {
   "display_name": "Python 3",
   "language": "python",
   "name": "python3"
  },
  "language_info": {
   "codemirror_mode": {
    "name": "ipython",
    "version": 3
   },
   "file_extension": ".py",
   "mimetype": "text/x-python",
   "name": "python",
   "nbconvert_exporter": "python",
   "pygments_lexer": "ipython3",
   "version": "3.11.5"
  },
  "orig_nbformat": 4
 },
 "nbformat": 4,
 "nbformat_minor": 2
}
