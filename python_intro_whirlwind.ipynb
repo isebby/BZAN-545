{
 "cells": [
  {
   "cell_type": "markdown",
   "metadata": {},
   "source": [
    "<center>\n",
    "  <img width=\"30%\" src=\"https://media.tenor.com/bHL9O-KFgoQAAAAM/pidgeotto-pokemon.gif\">\n",
    "</center> \n",
    "\n",
    "# <center> A whirlwind of python things </center>\n"
   ]
  },
  {
   "cell_type": "code",
   "execution_count": 32,
   "metadata": {},
   "outputs": [
    {
     "name": "stdout",
     "output_type": "stream",
     "text": [
      "<module 'this' from 'C:\\\\Program Files\\\\WindowsApps\\\\PythonSoftwareFoundation.Python.3.11_3.11.1520.0_x64__qbz5n2kfra8p0\\\\Lib\\\\this.py'>\n"
     ]
    }
   ],
   "source": [
    "# But first, a reading:\n",
    "import this"
   ]
  },
  {
   "cell_type": "markdown",
   "metadata": {},
   "source": [
    "Any lines from the `zen` that you want an explanation on?\n",
    "\n",
    "Some lines that might be less clear on what they mean:\n",
    "\n",
    "```\n",
    "...\n",
    "Flat is better than nested.\n",
    "Sparse is better than dense.\n",
    "...\n",
    "Errors should never pass silently.\n",
    "Unless explicitly silenced.\n",
    "...\n",
    "Namespaces are one honking great idea -- let's do more of those!\n",
    "```"
   ]
  },
  {
   "cell_type": "markdown",
   "metadata": {},
   "source": [
    "## Data types\n",
    "\n",
    "You've programmed before. What data types do you know?\n",
    "\n",
    "Play in the below cell to checkout different data types.  See python's name for them using `type()`.  Take notes on them in the markdown cell below."
   ]
  },
  {
   "cell_type": "code",
   "execution_count": 10,
   "metadata": {},
   "outputs": [
    {
     "name": "stdout",
     "output_type": "stream",
     "text": [
      "<class 'int'>\n",
      "<class 'bool'>\n",
      "<class 'str'>\n",
      "<class 'float'>\n",
      "<class 'list'>\n",
      "<class 'dict'>\n"
     ]
    }
   ],
   "source": [
    "# do stuff\n",
    "print(type(3))\n",
    "print(type(False))\n",
    "print(type(\"asdasd\"))\n",
    "print(type(1.0))\n",
    "\n",
    "# dates: see datetime \"built-in\" library\n",
    "\n",
    "x = [1, 2, 3, 4, 5, 6]\n",
    "print(type(x))\n",
    "\n",
    "x = {\"a\": 1, \"b\": 2}\n",
    "print(type(x))"
   ]
  },
  {
   "cell_type": "markdown",
   "metadata": {},
   "source": [
    "### List of datatypes\n",
    "\n",
    "Provide when you'd use/not use them.  Compare and contrast when similar data types come up\n",
    "\n",
    "* blah\n",
    "* blah\n",
    "* blah"
   ]
  },
  {
   "cell_type": "markdown",
   "metadata": {},
   "source": [
    "## Just enough OOP to be dangerous\n",
    "\n",
    "Python more closely follows patterns known as \"Object Oriented Programming\" (OOP).\n",
    "R more closely follows patterns known as \"Functional Programming\".\n",
    "\n",
    "Both languages can support both styles, but you'll especially see R users gravitate towards functional programming since its very much how math and stats people formulate problems.\n",
    "\n",
    "### Methods vs functions\n",
    "\n",
    "An analogy (designed more to be approachable than complete)\n",
    "\n",
    "* OOP: nouns have verbs attached to them that they can do (they also have attributes)\n",
    "  * `object.method()` - ex: `\"shout\".upper()` in Python\n",
    "* Functional: nouns have outside verbs applied to them\n",
    "  * `function(object)` - ex: `toUpper(\"shout\")` in R"
   ]
  },
  {
   "cell_type": "code",
   "execution_count": 11,
   "metadata": {},
   "outputs": [
    {
     "name": "stdout",
     "output_type": "stream",
     "text": [
      "['__add__', '__class__', '__contains__', '__delattr__', '__dir__', '__doc__', '__eq__', '__format__', '__ge__', '__getattribute__', '__getitem__', '__getnewargs__', '__getstate__', '__gt__', '__hash__', '__init__', '__init_subclass__', '__iter__', '__le__', '__len__', '__lt__', '__mod__', '__mul__', '__ne__', '__new__', '__reduce__', '__reduce_ex__', '__repr__', '__rmod__', '__rmul__', '__setattr__', '__sizeof__', '__str__', '__subclasshook__', 'capitalize', 'casefold', 'center', 'count', 'encode', 'endswith', 'expandtabs', 'find', 'format', 'format_map', 'index', 'isalnum', 'isalpha', 'isascii', 'isdecimal', 'isdigit', 'isidentifier', 'islower', 'isnumeric', 'isprintable', 'isspace', 'istitle', 'isupper', 'join', 'ljust', 'lower', 'lstrip', 'maketrans', 'partition', 'removeprefix', 'removesuffix', 'replace', 'rfind', 'rindex', 'rjust', 'rpartition', 'rsplit', 'rstrip', 'split', 'splitlines', 'startswith', 'strip', 'swapcase', 'title', 'translate', 'upper', 'zfill']\n"
     ]
    },
    {
     "data": {
      "text/plain": [
       "\"We're 2 and 0 but it feels like we could have done better; I ofc never doubted us..\""
      ]
     },
     "execution_count": 11,
     "metadata": {},
     "output_type": "execute_result"
    }
   ],
   "source": [
    "# Explore methods/attributes that some of our above data types have\n",
    "\n",
    "# Getting the party started\n",
    "my_str = \"We're 2 and 0 but it feels like we lost.\"\n",
    "\n",
    "# Use the dir() function on an object to see what it has attached to it.\n",
    "# For now, ignore the ones with double underscores (called \"dunders\" ... get it?)\n",
    "print(dir(my_str))\n",
    "\n",
    "# You can also really rely on autocomplete for exploring:\n",
    "# type variable name followed by a period (usually called \"dot\") and wait for pop up\n",
    "my_str.replace(\"lost\", \"could have done better; I ofc never doubted us.\")"
   ]
  },
  {
   "cell_type": "code",
   "execution_count": null,
   "metadata": {},
   "outputs": [],
   "source": [
    "# do stuff"
   ]
  },
  {
   "cell_type": "markdown",
   "metadata": {},
   "source": [
    "## Variables and Calculator"
   ]
  },
  {
   "cell_type": "markdown",
   "metadata": {},
   "source": [
    "### Math operations to know exist\n",
    "\n",
    "* `+`, `-`, `*`, `/`, `//`, `**`, `%`\n",
    "* `+=`, `-=`,`*=`, `/=`, `//=`, `**=`, `%=`"
   ]
  },
  {
   "cell_type": "code",
   "execution_count": 28,
   "metadata": {},
   "outputs": [
    {
     "name": "stdout",
     "output_type": "stream",
     "text": [
      "2\n",
      "2\n",
      "9\n",
      "4\n",
      "3\n"
     ]
    }
   ],
   "source": [
    "# Try out any you don't know\n",
    "# and write a note of when it would be nice to use\n",
    "print(10 // 4)\n",
    "print(4 // 2)\n",
    "\n",
    "print(3**2)\n",
    "\n",
    "x = 3\n",
    "x += 1\n",
    "print(x)\n",
    "\n",
    "x -= 1\n",
    "print(x)"
   ]
  },
  {
   "cell_type": "markdown",
   "metadata": {},
   "source": [
    "You can use it as a fancy calculator and name things to help (aka create variables).  Telling is more boring than trying to apply. Word problems are funner...?\n",
    "\n",
    "A friend and I made this game for fun: https://bouncetheballgame.com (it does way better on mobile; besides on lower power mode... we built it from scratch with no game experience so we got to learn some issues that will be solved in fancier game engines). Anywho... the word problem!!\n",
    "\n",
    "How can you detect if the ball was successfully hit? Write code to do it."
   ]
  },
  {
   "cell_type": "markdown",
   "metadata": {},
   "source": [
    "<center>\n",
    "  <img width=\"50%\" src=\"https://media3.giphy.com/media/v1.Y2lkPTc5MGI3NjExZDEyNXAzbmNtb3hwaDFhcXdpbGRmYnUweXF0ejNhNm05eWNvNzlrYSZlcD12MV9pbnRlcm5hbF9naWZfYnlfaWQmY3Q9Zw/aCUxOQ7wZzMBYYIyvO/giphy.gif\">\n",
    "</center>"
   ]
  },
  {
   "cell_type": "code",
   "execution_count": 33,
   "metadata": {},
   "outputs": [
    {
     "name": "stdout",
     "output_type": "stream",
     "text": [
      "0.0\n"
     ]
    },
    {
     "data": {
      "text/plain": [
       "True"
      ]
     },
     "execution_count": 33,
     "metadata": {},
     "output_type": "execute_result"
    }
   ],
   "source": [
    "# do stuff\n",
    "ball_x = 0\n",
    "ball_y = 0\n",
    "ball_radius = 100\n",
    "\n",
    "mouse_x = 0\n",
    "mouse_y = 0\n",
    "\n",
    "import math as math\n",
    "\n",
    "# minkowski -> manhattan (L1) & euclidean (L2) & L3\n",
    "sq_distance = (ball_x - mouse_x) ** 2 + (ball_y - mouse_y) ** 2\n",
    "distance = math.sqrt(sq_distance)\n",
    "\n",
    "is_clicked = distance < ball_radius"
   ]
  },
  {
   "cell_type": "markdown",
   "metadata": {},
   "source": [
    "below cell pertains to the markdown cell below it; aka scroll past the next cell"
   ]
  },
  {
   "cell_type": "code",
   "execution_count": 34,
   "metadata": {},
   "outputs": [],
   "source": [
    "# The fmt comments turn off and on the formatter\n",
    "# Use when you want to break the rules intentionally\n",
    "\n",
    "# fmt: off\n",
    "control = [\n",
    "  48.16, 47.94, 47.96, 48.02, 47.96, 48.09,\n",
    "  48.05, 48.15, 48.07, 48.05, 47.95, 47.96,\n",
    "  48.07, 47.97, 48.08, 48.00, 47.85, 47.88,\n",
    "  48.05, 47.90, 48.08, 48.07, 47.96, 48.01,\n",
    "  48.08, 47.98, 47.86, 47.94, 48.00, 48.02,\n",
    "]\n",
    "\n",
    "treatment = [\n",
    "  50.11, 50.13, 49.91, 50.08, 50.42, 49.81,\n",
    "  49.82, 49.83, 49.87, 50.06, 49.94, 50.16,\n",
    "  50.00, 50.58, 50.26, 50.02, 49.83, 49.62,\n",
    "  50.16, 49.86, 49.78, 49.91, 50.21, 49.61,\n",
    "  49.99, 50.18, 50.04, 50.03, 50.02, 50.26,\n",
    "  50.25, 49.81, 49.94, 50.01, 50.26, 50.02,\n",
    "  50.21, 49.80, 50.05, 50.03, 49.97, 50.34,\n",
    "  50.17, 50.12, 50.11, 50.40, 49.98, 49.49,\n",
    "  49.84, 49.77,\n",
    "]\n",
    "# fmt: on"
   ]
  },
  {
   "cell_type": "markdown",
   "metadata": {},
   "source": [
    "The data in the above cell are the result of trying out a new marketing channel.  Is it worth it at the current price? If we need to try and negotiate down the price, what value is our \n",
    "\n",
    "* The recurring cost of keeping this channel is $10000 a month\n",
    "* Our business does about 7000 transactions a month"
   ]
  },
  {
   "cell_type": "code",
   "execution_count": 37,
   "metadata": {},
   "outputs": [
    {
     "name": "stdout",
     "output_type": "stream",
     "text": [
      "48.00533333333333\n",
      "50.0214\n"
     ]
    }
   ],
   "source": [
    "# Solve without loading any additional libraries outside of this\n",
    "import statistics\n",
    "\n",
    "# A couple functions from statistics\n",
    "# statistics.median([1, 2, 3, 4])\n",
    "# statistics.mean([1, 2, 3, 4])\n",
    "\n",
    "print(statistics.mean(control))\n",
    "print(statistics.mean(treatment))\n",
    "\n",
    "# Use autocomplete (`statistics.`) or `dir(statistics)` to find more functions\n",
    "# you might want to use"
   ]
  },
  {
   "cell_type": "markdown",
   "metadata": {},
   "source": [
    "compare control v treatment\n",
    "\n",
    "mean of each\n",
    "take difference of means\n",
    "multiple by expected transactions\n",
    "do t-test to make a confidence interval of the difference of means"
   ]
  },
  {
   "cell_type": "markdown",
   "metadata": {},
   "source": [
    "While making this I'm guessing we'll only have time for one of the things below.  Which should we do?"
   ]
  },
  {
   "cell_type": "markdown",
   "metadata": {},
   "source": [
    "## Other coding things\n",
    "\n",
    "You've programmed before. What other coding things are useful that you've done before, but maybe not in Python?\n",
    "\n",
    "Play in the below cell to checkout different data types. Take notes on them in the markdown cell below."
   ]
  },
  {
   "cell_type": "code",
   "execution_count": null,
   "metadata": {},
   "outputs": [],
   "source": [
    "# do stuff"
   ]
  },
  {
   "cell_type": "markdown",
   "metadata": {},
   "source": [
    "### List of coding things\n",
    "\n",
    "Provide when you'd use/not use them.  Compare and contrast when similar things come up\n",
    "\n",
    "* blah\n",
    "* blah\n",
    "* blah"
   ]
  },
  {
   "cell_type": "markdown",
   "metadata": {},
   "source": [
    "## Packages"
   ]
  },
  {
   "cell_type": "code",
   "execution_count": 1,
   "metadata": {},
   "outputs": [
    {
     "name": "stdout",
     "output_type": "stream",
     "text": [
      "Collecting pandas\n",
      "  Obtaining dependency information for pandas from https://files.pythonhosted.org/packages/e5/cd/c941b51e95992968e3e8abc7180f33b952478abd6943062051517a808db7/pandas-2.1.0-cp311-cp311-macosx_11_0_arm64.whl.metadata\n",
      "  Downloading pandas-2.1.0-cp311-cp311-macosx_11_0_arm64.whl.metadata (18 kB)\n",
      "Collecting numpy>=1.23.2 (from pandas)\n",
      "  Obtaining dependency information for numpy>=1.23.2 from https://files.pythonhosted.org/packages/35/21/9e150d654da358beb29fe216f339dc17f2b2ac13fff2a89669401a910550/numpy-1.26.0-cp311-cp311-macosx_11_0_arm64.whl.metadata\n",
      "  Downloading numpy-1.26.0-cp311-cp311-macosx_11_0_arm64.whl.metadata (99 kB)\n",
      "\u001b[2K     \u001b[90m━━━━━━━━━━━━━━━━━━━━━━━━━━━━━━━━━━━━━━━━\u001b[0m \u001b[32m99.7/99.7 kB\u001b[0m \u001b[31m3.9 MB/s\u001b[0m eta \u001b[36m0:00:00\u001b[0m\n",
      "\u001b[?25hRequirement already satisfied: python-dateutil>=2.8.2 in /Users/iansebby/Library/Python/3.11/lib/python/site-packages (from pandas) (2.8.2)\n",
      "Collecting pytz>=2020.1 (from pandas)\n",
      "  Obtaining dependency information for pytz>=2020.1 from https://files.pythonhosted.org/packages/32/4d/aaf7eff5deb402fd9a24a1449a8119f00d74ae9c2efa79f8ef9994261fc2/pytz-2023.3.post1-py2.py3-none-any.whl.metadata\n",
      "  Downloading pytz-2023.3.post1-py2.py3-none-any.whl.metadata (22 kB)\n",
      "Collecting tzdata>=2022.1 (from pandas)\n",
      "  Downloading tzdata-2023.3-py2.py3-none-any.whl (341 kB)\n",
      "\u001b[2K     \u001b[90m━━━━━━━━━━━━━━━━━━━━━━━━━━━━━━━━━━━━━━\u001b[0m \u001b[32m341.8/341.8 kB\u001b[0m \u001b[31m11.9 MB/s\u001b[0m eta \u001b[36m0:00:00\u001b[0m\n",
      "\u001b[?25hRequirement already satisfied: six>=1.5 in /Users/iansebby/Library/Python/3.11/lib/python/site-packages (from python-dateutil>=2.8.2->pandas) (1.16.0)\n",
      "Downloading pandas-2.1.0-cp311-cp311-macosx_11_0_arm64.whl (11.2 MB)\n",
      "\u001b[2K   \u001b[90m━━━━━━━━━━━━━━━━━━━━━━━━━━━━━━━━━━━━━━━━\u001b[0m \u001b[32m11.2/11.2 MB\u001b[0m \u001b[31m16.8 MB/s\u001b[0m eta \u001b[36m0:00:00\u001b[0m00:01\u001b[0m00:01\u001b[0m\n",
      "\u001b[?25hDownloading numpy-1.26.0-cp311-cp311-macosx_11_0_arm64.whl (14.0 MB)\n",
      "\u001b[2K   \u001b[90m━━━━━━━━━━━━━━━━━━━━━━━━━━━━━━━━━━━━━━━━\u001b[0m \u001b[32m14.0/14.0 MB\u001b[0m \u001b[31m14.9 MB/s\u001b[0m eta \u001b[36m0:00:00\u001b[0m00:01\u001b[0m00:01\u001b[0m\n",
      "\u001b[?25hDownloading pytz-2023.3.post1-py2.py3-none-any.whl (502 kB)\n",
      "\u001b[2K   \u001b[90m━━━━━━━━━━━━━━━━━━━━━━━━━━━━━━━━━━━━━━━━\u001b[0m \u001b[32m502.5/502.5 kB\u001b[0m \u001b[31m15.2 MB/s\u001b[0m eta \u001b[36m0:00:00\u001b[0m\n",
      "\u001b[?25hInstalling collected packages: pytz, tzdata, numpy, pandas\n",
      "Successfully installed numpy-1.26.0 pandas-2.1.0 pytz-2023.3.post1 tzdata-2023.3\n",
      "Collecting scipy\n",
      "  Obtaining dependency information for scipy from https://files.pythonhosted.org/packages/2a/12/62804d63514ecd9d2ecb73497c3e38094f9139bc60b0353b653253d106bb/scipy-1.11.2-cp311-cp311-macosx_12_0_arm64.whl.metadata\n",
      "  Downloading scipy-1.11.2-cp311-cp311-macosx_12_0_arm64.whl.metadata (146 kB)\n",
      "\u001b[2K     \u001b[90m━━━━━━━━━━━━━━━━━━━━━━━━━━━━━━━━━━━━━━━\u001b[0m \u001b[32m146.5/146.5 kB\u001b[0m \u001b[31m1.6 MB/s\u001b[0m eta \u001b[36m0:00:00\u001b[0ma \u001b[36m0:00:01\u001b[0m\n",
      "\u001b[?25hRequirement already satisfied: numpy<1.28.0,>=1.21.6 in /Library/Frameworks/Python.framework/Versions/3.11/lib/python3.11/site-packages (from scipy) (1.26.0)\n",
      "Downloading scipy-1.11.2-cp311-cp311-macosx_12_0_arm64.whl (29.6 MB)\n",
      "\u001b[2K   \u001b[90m━━━━━━━━━━━━━━━━━━━━━━━━━━━━━━━━━━━━━━━━\u001b[0m \u001b[32m29.6/29.6 MB\u001b[0m \u001b[31m15.5 MB/s\u001b[0m eta \u001b[36m0:00:00\u001b[0m00:01\u001b[0m00:01\u001b[0m\n",
      "\u001b[?25hInstalling collected packages: scipy\n",
      "Successfully installed scipy-1.11.2\n",
      "Collecting seaborn\n",
      "  Downloading seaborn-0.12.2-py3-none-any.whl (293 kB)\n",
      "\u001b[2K     \u001b[90m━━━━━━━━━━━━━━━━━━━━━━━━━━━━━━━━━━━━━━━\u001b[0m \u001b[32m293.3/293.3 kB\u001b[0m \u001b[31m5.8 MB/s\u001b[0m eta \u001b[36m0:00:00\u001b[0ma \u001b[36m0:00:01\u001b[0m\n",
      "\u001b[?25hRequirement already satisfied: numpy!=1.24.0,>=1.17 in /Library/Frameworks/Python.framework/Versions/3.11/lib/python3.11/site-packages (from seaborn) (1.26.0)\n",
      "Requirement already satisfied: pandas>=0.25 in /Library/Frameworks/Python.framework/Versions/3.11/lib/python3.11/site-packages (from seaborn) (2.1.0)\n",
      "Collecting matplotlib!=3.6.1,>=3.1 (from seaborn)\n",
      "  Obtaining dependency information for matplotlib!=3.6.1,>=3.1 from https://files.pythonhosted.org/packages/af/f3/fb27b3b902fc759bbca3f9d0336c48069c3022e57552c4b0095d997c7ea8/matplotlib-3.8.0-cp311-cp311-macosx_11_0_arm64.whl.metadata\n",
      "  Downloading matplotlib-3.8.0-cp311-cp311-macosx_11_0_arm64.whl.metadata (5.8 kB)\n",
      "Collecting contourpy>=1.0.1 (from matplotlib!=3.6.1,>=3.1->seaborn)\n",
      "  Obtaining dependency information for contourpy>=1.0.1 from https://files.pythonhosted.org/packages/2c/8e/656f8e7cd316aa68d9824744773e90dbd71f847429d10c82001e927480a2/contourpy-1.1.1-cp311-cp311-macosx_11_0_arm64.whl.metadata\n",
      "  Downloading contourpy-1.1.1-cp311-cp311-macosx_11_0_arm64.whl.metadata (5.9 kB)\n",
      "Collecting cycler>=0.10 (from matplotlib!=3.6.1,>=3.1->seaborn)\n",
      "  Downloading cycler-0.11.0-py3-none-any.whl (6.4 kB)\n",
      "Collecting fonttools>=4.22.0 (from matplotlib!=3.6.1,>=3.1->seaborn)\n",
      "  Obtaining dependency information for fonttools>=4.22.0 from https://files.pythonhosted.org/packages/1f/80/c5ce42faa7dec3c22fe587e56e141c7416c19a13a96bd4972bf1b55cb494/fonttools-4.42.1-cp311-cp311-macosx_10_9_universal2.whl.metadata\n",
      "  Downloading fonttools-4.42.1-cp311-cp311-macosx_10_9_universal2.whl.metadata (150 kB)\n",
      "\u001b[2K     \u001b[90m━━━━━━━━━━━━━━━━━━━━━━━━━━━━━━━━━━━━━━\u001b[0m \u001b[32m151.0/151.0 kB\u001b[0m \u001b[31m13.5 MB/s\u001b[0m eta \u001b[36m0:00:00\u001b[0m\n",
      "\u001b[?25hCollecting kiwisolver>=1.0.1 (from matplotlib!=3.6.1,>=3.1->seaborn)\n",
      "  Obtaining dependency information for kiwisolver>=1.0.1 from https://files.pythonhosted.org/packages/4a/fe/23d7fa78f7c66086d196406beb1fb2eaf629dd7adc01c3453033303d17fa/kiwisolver-1.4.5-cp311-cp311-macosx_11_0_arm64.whl.metadata\n",
      "  Downloading kiwisolver-1.4.5-cp311-cp311-macosx_11_0_arm64.whl.metadata (6.4 kB)\n",
      "Requirement already satisfied: packaging>=20.0 in /Users/iansebby/Library/Python/3.11/lib/python/site-packages (from matplotlib!=3.6.1,>=3.1->seaborn) (23.1)\n",
      "Collecting pillow>=6.2.0 (from matplotlib!=3.6.1,>=3.1->seaborn)\n",
      "  Obtaining dependency information for pillow>=6.2.0 from https://files.pythonhosted.org/packages/e4/93/9226cc667ed8785333969c03deb2a36af2f3757284d3a2cf2ebd70331c32/Pillow-10.0.1-cp311-cp311-macosx_11_0_arm64.whl.metadata\n",
      "  Downloading Pillow-10.0.1-cp311-cp311-macosx_11_0_arm64.whl.metadata (9.5 kB)\n",
      "Collecting pyparsing>=2.3.1 (from matplotlib!=3.6.1,>=3.1->seaborn)\n",
      "  Obtaining dependency information for pyparsing>=2.3.1 from https://files.pythonhosted.org/packages/39/92/8486ede85fcc088f1b3dba4ce92dd29d126fd96b0008ea213167940a2475/pyparsing-3.1.1-py3-none-any.whl.metadata\n",
      "  Downloading pyparsing-3.1.1-py3-none-any.whl.metadata (5.1 kB)\n",
      "Requirement already satisfied: python-dateutil>=2.7 in /Users/iansebby/Library/Python/3.11/lib/python/site-packages (from matplotlib!=3.6.1,>=3.1->seaborn) (2.8.2)\n",
      "Requirement already satisfied: pytz>=2020.1 in /Library/Frameworks/Python.framework/Versions/3.11/lib/python3.11/site-packages (from pandas>=0.25->seaborn) (2023.3.post1)\n",
      "Requirement already satisfied: tzdata>=2022.1 in /Library/Frameworks/Python.framework/Versions/3.11/lib/python3.11/site-packages (from pandas>=0.25->seaborn) (2023.3)\n",
      "Requirement already satisfied: six>=1.5 in /Users/iansebby/Library/Python/3.11/lib/python/site-packages (from python-dateutil>=2.7->matplotlib!=3.6.1,>=3.1->seaborn) (1.16.0)\n",
      "Downloading matplotlib-3.8.0-cp311-cp311-macosx_11_0_arm64.whl (7.5 MB)\n",
      "\u001b[2K   \u001b[90m━━━━━━━━━━━━━━━━━━━━━━━━━━━━━━━━━━━━━━━━\u001b[0m \u001b[32m7.5/7.5 MB\u001b[0m \u001b[31m14.1 MB/s\u001b[0m eta \u001b[36m0:00:00\u001b[0m00:01\u001b[0m00:01\u001b[0m\n",
      "\u001b[?25hDownloading contourpy-1.1.1-cp311-cp311-macosx_11_0_arm64.whl (233 kB)\n",
      "\u001b[2K   \u001b[90m━━━━━━━━━━━━━━━━━━━━━━━━━━━━━━━━━━━━━━━━\u001b[0m \u001b[32m233.6/233.6 kB\u001b[0m \u001b[31m13.8 MB/s\u001b[0m eta \u001b[36m0:00:00\u001b[0m\n",
      "\u001b[?25hDownloading fonttools-4.42.1-cp311-cp311-macosx_10_9_universal2.whl (2.7 MB)\n",
      "\u001b[2K   \u001b[90m━━━━━━━━━━━━━━━━━━━━━━━━━━━━━━━━━━━━━━━━\u001b[0m \u001b[32m2.7/2.7 MB\u001b[0m \u001b[31m19.7 MB/s\u001b[0m eta \u001b[36m0:00:00\u001b[0ma \u001b[36m0:00:01\u001b[0m\n",
      "\u001b[?25hDownloading kiwisolver-1.4.5-cp311-cp311-macosx_11_0_arm64.whl (66 kB)\n",
      "\u001b[2K   \u001b[90m━━━━━━━━━━━━━━━━━━━━━━━━━━━━━━━━━━━━━━━━\u001b[0m \u001b[32m66.2/66.2 kB\u001b[0m \u001b[31m7.8 MB/s\u001b[0m eta \u001b[36m0:00:00\u001b[0m\n",
      "\u001b[?25hDownloading Pillow-10.0.1-cp311-cp311-macosx_11_0_arm64.whl (3.3 MB)\n",
      "\u001b[2K   \u001b[90m━━━━━━━━━━━━━━━━━━━━━━━━━━━━━━━━━━━━━━━━\u001b[0m \u001b[32m3.3/3.3 MB\u001b[0m \u001b[31m13.8 MB/s\u001b[0m eta \u001b[36m0:00:00\u001b[0ma \u001b[36m0:00:01\u001b[0m\n",
      "\u001b[?25hDownloading pyparsing-3.1.1-py3-none-any.whl (103 kB)\n",
      "\u001b[2K   \u001b[90m━━━━━━━━━━━━━━━━━━━━━━━━━━━━━━━━━━━━━━━━\u001b[0m \u001b[32m103.1/103.1 kB\u001b[0m \u001b[31m10.9 MB/s\u001b[0m eta \u001b[36m0:00:00\u001b[0m\n",
      "\u001b[?25hInstalling collected packages: pyparsing, pillow, kiwisolver, fonttools, cycler, contourpy, matplotlib, seaborn\n",
      "Successfully installed contourpy-1.1.1 cycler-0.11.0 fonttools-4.42.1 kiwisolver-1.4.5 matplotlib-3.8.0 pillow-10.0.1 pyparsing-3.1.1 seaborn-0.12.2\n"
     ]
    }
   ],
   "source": [
    "# Run code at your command line with `!` in `.ipynb` files\n",
    "# Some common packages\n",
    "\n",
    "# Comment out after you've installed\n",
    "!pip3 install pandas\n",
    "!pip3 install scipy\n",
    "!pip3 install seaborn"
   ]
  },
  {
   "cell_type": "code",
   "execution_count": null,
   "metadata": {},
   "outputs": [],
   "source": [
    "# How these packages are often imported\n",
    "import pandas as pd\n",
    "from scipy import stats\n",
    "import seaborn as sns\n",
    "\n",
    "# What does \"sns\" have to do with \"seaborn\"?\n",
    "# Nerd history: The package is named after the character\n",
    "#               Sam Norman Seaborn (sns) from the show The West Wing\n",
    "#               played by Rob Lowe.\n",
    "#\n",
    "# Also from the seaborn docs: https://seaborn.pydata.org/faq.html#why-is-ggplot-so-much-better-than-seaborn\n",
    "#   Why is ggplot so much better than seaborn?\n",
    "#   Good question. Probably because you get to use the word “geom” a lot, and it’s fun to say. “Geom”. “Geeeeeooom”."
   ]
  },
  {
   "cell_type": "code",
   "execution_count": null,
   "metadata": {},
   "outputs": [],
   "source": [
    "# do stuff"
   ]
  },
  {
   "cell_type": "markdown",
   "metadata": {},
   "source": [
    "## Translating R code\n",
    "\n",
    "Prolly a good exercise for ChatGPT and then reading, debugging, and improving readability of what it gives you:"
   ]
  },
  {
   "cell_type": "markdown",
   "metadata": {},
   "source": [
    "-------\n",
    "\n",
    "```r\n",
    "# Translate me!\n",
    "values <- 1:10\n",
    "new_values <- c()\n",
    "for (i in seq_along(values)) {\n",
    "  x <- values[i]\n",
    "\n",
    "  if (x %% 2 == 1) {\n",
    "    scalar <- -2\n",
    "  } else {\n",
    "    scalar <- 2\n",
    "  }\n",
    "\n",
    "  new_x <- x * scalar\n",
    "  new_values[i] <- new_x\n",
    "}\n",
    "\n",
    "new_values <- sort(new_values)\n",
    "print(new_values)\n",
    "```\n",
    "\n",
    "-------"
   ]
  },
  {
   "cell_type": "markdown",
   "metadata": {},
   "source": [
    "**Main task:** Translate the above R code into Python!\n",
    "\n",
    "**Side task 1:** Add comments explaining!\n",
    "\n",
    "* What comments\n",
    "  * Says what the code does\n",
    "  * Example\n",
    "    * code: `idx % 2 == 0`\n",
    "    * comment: `# check if remainder of idx / 2 is 0`\n",
    "* Why comments\n",
    "  * Says bigger picture things to why you're doing something\n",
    "  * Example\n",
    "    * code: `idx % 2 == 0`\n",
    "    * comment: `# Check if idx is even/odd - odds will be assigned to control group`\n",
    "\n",
    "Lean towards \"Why\" comments unless you're learning something or doing something obscure.\n",
    "If you focus on your code being readable with good variable names, formatting, and breaking things up then \"What\" comments are often redundant and deleteable.\n",
    "\n",
    "In the below code it'll be tough to do any \"why\"s cause the code isn't made to actually accomplish a task.\n",
    "\n",
    "\n",
    "**Side task 2:** Things to explicitly look into if GPT-ing doesn't guide you to em\n",
    "* `enumerate()`\n",
    "* `.sort()` vs `sorted()`"
   ]
  },
  {
   "cell_type": "code",
   "execution_count": null,
   "metadata": {},
   "outputs": [],
   "source": [
    "# do stuff"
   ]
  }
 ],
 "metadata": {
  "kernelspec": {
   "display_name": "Python 3",
   "language": "python",
   "name": "python3"
  },
  "language_info": {
   "codemirror_mode": {
    "name": "ipython",
    "version": 3
   },
   "file_extension": ".py",
   "mimetype": "text/x-python",
   "name": "python",
   "nbconvert_exporter": "python",
   "pygments_lexer": "ipython3",
   "version": "3.11.5"
  },
  "orig_nbformat": 4
 },
 "nbformat": 4,
 "nbformat_minor": 2
}
