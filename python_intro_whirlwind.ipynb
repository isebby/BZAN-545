{
 "cells": [
  {
   "cell_type": "markdown",
   "metadata": {},
   "source": [
    "<center>\n",
    "  <img width=\"30%\" src=\"https://media.tenor.com/bHL9O-KFgoQAAAAM/pidgeotto-pokemon.gif\">\n",
    "</center> \n",
    "\n",
    "# <center> A whirlwind of python things </center>\n"
   ]
  },
  {
   "cell_type": "code",
   "execution_count": 1,
   "metadata": {},
   "outputs": [
    {
     "name": "stdout",
     "output_type": "stream",
     "text": [
      "The Zen of Python, by Tim Peters\n",
      "\n",
      "Beautiful is better than ugly.\n",
      "Explicit is better than implicit.\n",
      "Simple is better than complex.\n",
      "Complex is better than complicated.\n",
      "Flat is better than nested.\n",
      "Sparse is better than dense.\n",
      "Readability counts.\n",
      "Special cases aren't special enough to break the rules.\n",
      "Although practicality beats purity.\n",
      "Errors should never pass silently.\n",
      "Unless explicitly silenced.\n",
      "In the face of ambiguity, refuse the temptation to guess.\n",
      "There should be one-- and preferably only one --obvious way to do it.\n",
      "Although that way may not be obvious at first unless you're Dutch.\n",
      "Now is better than never.\n",
      "Although never is often better than *right* now.\n",
      "If the implementation is hard to explain, it's a bad idea.\n",
      "If the implementation is easy to explain, it may be a good idea.\n",
      "Namespaces are one honking great idea -- let's do more of those!\n"
     ]
    }
   ],
   "source": [
    "# But first, a reading:\n",
    "import this"
   ]
  },
  {
   "cell_type": "markdown",
   "metadata": {},
   "source": [
    "Any lines from the `zen` that you want an explanation on?\n",
    "\n",
    "Some lines that might be less clear on what they mean:\n",
    "\n",
    "```\n",
    "...\n",
    "Flat is better than nested.\n",
    "Sparse is better than dense.\n",
    "...\n",
    "Errors should never pass silently.\n",
    "Unless explicitly silenced.\n",
    "...\n",
    "Namespaces are one honking great idea -- let's do more of those!\n",
    "```"
   ]
  },
  {
   "cell_type": "markdown",
   "metadata": {},
   "source": [
    "## Data types\n",
    "\n",
    "You've programmed before. What data types do you know?\n",
    "\n",
    "Play in the below cell to checkout different data types.  See python's name for them using `type()`.  Take notes on them in the markdown cell below."
   ]
  },
  {
   "cell_type": "code",
   "execution_count": null,
   "metadata": {},
   "outputs": [],
   "source": [
    "# do stuff"
   ]
  },
  {
   "cell_type": "markdown",
   "metadata": {},
   "source": [
    "### List of datatypes\n",
    "\n",
    "Provide when you'd use/not use them.  Compare and contrast when similar data types come up\n",
    "\n",
    "* blah\n",
    "* blah\n",
    "* blah"
   ]
  },
  {
   "cell_type": "markdown",
   "metadata": {},
   "source": [
    "## Just enough OOP to be dangerous\n",
    "\n",
    "Python more closely follows patterns known as \"Object Oriented Programming\" (OOP).\n",
    "R more closely follows patterns known as \"Functional Programming\".\n",
    "\n",
    "Both languages can support both styles, but you'll especially see R users gravitate towards functional programming since its very much how math and stats people formulate problems.\n",
    "\n",
    "### Methods vs functions\n",
    "\n",
    "An analogy (designed more to be approachable than complete)\n",
    "\n",
    "* OOP: nouns have verbs attached to them that they can do (they also have attributes)\n",
    "  * `object.method()` - ex: `\"shout\".upper()` in Python\n",
    "* Functional: nouns have outside verbs applied to them\n",
    "  * `function(object)` - ex: `toUpper(\"shout\")` in R"
   ]
  },
  {
   "cell_type": "code",
   "execution_count": null,
   "metadata": {},
   "outputs": [],
   "source": [
    "# Explore methods/attributes that some of our above data types have\n",
    "\n",
    "# Getting the party started\n",
    "my_str = \"We're 2 and 0 but it feels like we lost.\"\n",
    "\n",
    "# Use the dir() function on an object to see what it has attached to it.\n",
    "# For now, ignore the ones with double underscores (called \"dunders\" ... get it?)\n",
    "print(dir(my_str))\n",
    "\n",
    "# You can also really rely on autocomplete for exploring:\n",
    "# type variable name followed by a period (usually called \"dot\") and wait for pop up\n",
    "my_str.replace(\"lost\", \"could have done better; I ofc never doubted us.\")"
   ]
  },
  {
   "cell_type": "code",
   "execution_count": null,
   "metadata": {},
   "outputs": [],
   "source": [
    "# do stuff"
   ]
  },
  {
   "cell_type": "markdown",
   "metadata": {},
   "source": [
    "## Variables and Calculator"
   ]
  },
  {
   "cell_type": "markdown",
   "metadata": {},
   "source": [
    "### Math operations to know exist\n",
    "\n",
    "* `+`, `-`, `*`, `/`, `//`, `**`, `%`\n",
    "* `+=`, `-=`,`*=`, `/=`, `//=`, `**=`, `%=`"
   ]
  },
  {
   "cell_type": "code",
   "execution_count": null,
   "metadata": {},
   "outputs": [],
   "source": [
    "# Try out any you don't know\n",
    "# and write a note of when it would be nice to use"
   ]
  },
  {
   "cell_type": "markdown",
   "metadata": {},
   "source": [
    "You can use it as a fancy calculator and name things to help (aka create variables).  Telling is more boring than trying to apply. Word problems are funner...?\n",
    "\n",
    "A friend and I made this game for fun: https://bouncetheballgame.com (it does way better on mobile; besides on lower power mode... we built it from scratch with no game experience so we got to learn some issues that will be solved in fancier game engines). Anywho... the word problem!!\n",
    "\n",
    "How can you detect if the ball was successfully hit? Write code to do it."
   ]
  },
  {
   "cell_type": "markdown",
   "metadata": {},
   "source": [
    "<center>\n",
    "  <img width=\"50%\" src=\"https://media3.giphy.com/media/v1.Y2lkPTc5MGI3NjExZDEyNXAzbmNtb3hwaDFhcXdpbGRmYnUweXF0ejNhNm05eWNvNzlrYSZlcD12MV9pbnRlcm5hbF9naWZfYnlfaWQmY3Q9Zw/aCUxOQ7wZzMBYYIyvO/giphy.gif\">\n",
    "</center>"
   ]
  },
  {
   "cell_type": "code",
   "execution_count": null,
   "metadata": {},
   "outputs": [],
   "source": [
    "# do stuff"
   ]
  },
  {
   "cell_type": "markdown",
   "metadata": {},
   "source": [
    "below cell pertains to the markdown cell below it; aka scroll past the next cell"
   ]
  },
  {
   "cell_type": "code",
   "execution_count": 24,
   "metadata": {},
   "outputs": [],
   "source": [
    "# The fmt comments turn off and on the formatter\n",
    "# Use when you want to break the rules intentionally\n",
    "\n",
    "# fmt: off\n",
    "control = [\n",
    "  48.16, 47.94, 47.96, 48.02, 47.96, 48.09,\n",
    "  48.05, 48.15, 48.07, 48.05, 47.95, 47.96,\n",
    "  48.07, 47.97, 48.08, 48.00, 47.85, 47.88,\n",
    "  48.05, 47.90, 48.08, 48.07, 47.96, 48.01,\n",
    "  48.08, 47.98, 47.86, 47.94, 48.00, 48.02,\n",
    "]\n",
    "\n",
    "treatment = [\n",
    "  50.11, 50.13, 49.91, 50.08, 50.42, 49.81,\n",
    "  49.82, 49.83, 49.87, 50.06, 49.94, 50.16,\n",
    "  50.00, 50.58, 50.26, 50.02, 49.83, 49.62,\n",
    "  50.16, 49.86, 49.78, 49.91, 50.21, 49.61,\n",
    "  49.99, 50.18, 50.04, 50.03, 50.02, 50.26,\n",
    "  50.25, 49.81, 49.94, 50.01, 50.26, 50.02,\n",
    "  50.21, 49.80, 50.05, 50.03, 49.97, 50.34,\n",
    "  50.17, 50.12, 50.11, 50.40, 49.98, 49.49,\n",
    "  49.84, 49.77,\n",
    "]\n",
    "# fmt: on"
   ]
  },
  {
   "cell_type": "markdown",
   "metadata": {},
   "source": [
    "The data in the above cell are the result of trying out a new marketing channel.  Is it worth it at the current price? If we need to try and negotiate down the price, what value is our \n",
    "\n",
    "* The recurring cost of keeping this channel is $10000 a month\n",
    "* Our business does about 7000 transactions a month"
   ]
  },
  {
   "cell_type": "code",
   "execution_count": null,
   "metadata": {},
   "outputs": [],
   "source": [
    "# Solve without loading any additional libraries outside of this\n",
    "import statistics\n",
    "\n",
    "# A couple functions from statistics\n",
    "# statistics.median([1, 2, 3, 4])\n",
    "# statistics.mean([1, 2, 3, 4])\n",
    "\n",
    "# Use autocomplete (`statistics.`) or `dir(statistics)` to find more functions\n",
    "# you might want to use"
   ]
  },
  {
   "cell_type": "markdown",
   "metadata": {},
   "source": [
    "While making this I'm guessing we'll only have time for one of the things below.  Which should we do?"
   ]
  },
  {
   "cell_type": "markdown",
   "metadata": {},
   "source": [
    "## Other coding things\n",
    "\n",
    "You've programmed before. What other coding things are useful that you've done before, but maybe not in Python?\n",
    "\n",
    "Play in the below cell to checkout different data types. Take notes on them in the markdown cell below."
   ]
  },
  {
   "cell_type": "code",
   "execution_count": null,
   "metadata": {},
   "outputs": [],
   "source": [
    "# do stuff"
   ]
  },
  {
   "cell_type": "markdown",
   "metadata": {},
   "source": [
    "### List of coding things\n",
    "\n",
    "Provide when you'd use/not use them.  Compare and contrast when similar things come up\n",
    "\n",
    "* blah\n",
    "* blah\n",
    "* blah"
   ]
  },
  {
   "cell_type": "markdown",
   "metadata": {},
   "source": [
    "## Packages"
   ]
  },
  {
   "cell_type": "code",
   "execution_count": null,
   "metadata": {},
   "outputs": [],
   "source": [
    "# Run code at your command line with `!` in `.ipynb` files\n",
    "# Some common packages\n",
    "\n",
    "# Comment out after you've installed\n",
    "!pip3 install pandas\n",
    "!pip3 install scipy\n",
    "!pip3 install seaborn"
   ]
  },
  {
   "cell_type": "code",
   "execution_count": null,
   "metadata": {},
   "outputs": [],
   "source": [
    "# How these packages are often imported\n",
    "import pandas as pd\n",
    "from scipy import stats\n",
    "import seaborn as sns\n",
    "\n",
    "# What does \"sns\" have to do with \"seaborn\"?\n",
    "# Nerd history: The package is named after the character\n",
    "#               Sam Norman Seaborn (sns) from the show The West Wing\n",
    "#               played by Rob Lowe.\n",
    "#\n",
    "# Also from the seaborn docs: https://seaborn.pydata.org/faq.html#why-is-ggplot-so-much-better-than-seaborn\n",
    "#   Why is ggplot so much better than seaborn?\n",
    "#   Good question. Probably because you get to use the word “geom” a lot, and it’s fun to say. “Geom”. “Geeeeeooom”."
   ]
  },
  {
   "cell_type": "code",
   "execution_count": null,
   "metadata": {},
   "outputs": [],
   "source": [
    "# do stuff"
   ]
  },
  {
   "cell_type": "markdown",
   "metadata": {},
   "source": [
    "## Translating R code\n",
    "\n",
    "Prolly a good exercise for ChatGPT and then reading, debugging, and improving readability of what it gives you:"
   ]
  },
  {
   "cell_type": "markdown",
   "metadata": {},
   "source": [
    "-------\n",
    "\n",
    "```r\n",
    "# Translate me!\n",
    "values <- 1:10\n",
    "new_values <- c()\n",
    "for (i in seq_along(values)) {\n",
    "  x <- values[i]\n",
    "\n",
    "  if (x %% 2 == 1) {\n",
    "    scalar <- -2\n",
    "  } else {\n",
    "    scalar <- 2\n",
    "  }\n",
    "\n",
    "  new_x <- x * scalar\n",
    "  new_values[i] <- new_x\n",
    "}\n",
    "\n",
    "new_values <- sort(new_values)\n",
    "print(new_values)\n",
    "```\n",
    "\n",
    "-------"
   ]
  },
  {
   "cell_type": "markdown",
   "metadata": {},
   "source": [
    "**Main task:** Translate the above R code into Python!\n",
    "\n",
    "**Side task 1:** Add comments explaining!\n",
    "\n",
    "* What comments\n",
    "  * Says what the code does\n",
    "  * Example\n",
    "    * code: `idx % 2 == 0`\n",
    "    * comment: `# check if remainder of idx / 2 is 0`\n",
    "* Why comments\n",
    "  * Says bigger picture things to why you're doing something\n",
    "  * Example\n",
    "    * code: `idx % 2 == 0`\n",
    "    * comment: `# Check if idx is even/odd - odds will be assigned to control group`\n",
    "\n",
    "Lean towards \"Why\" comments unless you're learning something or doing something obscure.\n",
    "If you focus on your code being readable with good variable names, formatting, and breaking things up then \"What\" comments are often redundant and deleteable.\n",
    "\n",
    "In the below code it'll be tough to do any \"why\"s cause the code isn't made to actually accomplish a task.\n",
    "\n",
    "\n",
    "**Side task 2:** Things to explicitly look into if GPT-ing doesn't guide you to em\n",
    "* `enumerate()`\n",
    "* `.sort()` vs `sorted()`"
   ]
  },
  {
   "cell_type": "code",
   "execution_count": null,
   "metadata": {},
   "outputs": [],
   "source": [
    "# do stuff"
   ]
  }
 ],
 "metadata": {
  "kernelspec": {
   "display_name": "Python 3",
   "language": "python",
   "name": "python3"
  },
  "language_info": {
   "codemirror_mode": {
    "name": "ipython",
    "version": 3
   },
   "file_extension": ".py",
   "mimetype": "text/x-python",
   "name": "python",
   "nbconvert_exporter": "python",
   "pygments_lexer": "ipython3",
   "version": "3.11.5"
  },
  "orig_nbformat": 4
 },
 "nbformat": 4,
 "nbformat_minor": 2
}
