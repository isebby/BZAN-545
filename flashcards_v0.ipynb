{
 "cells": [
  {
   "cell_type": "markdown",
   "metadata": {},
   "source": [
    "# Flashcard data cleaning and v0 app\n",
    "\n",
    "We'll practice some of the python ideas we've seen so far and make sure you're setup with a way to use your and the class' flashcards.\n",
    "\n",
    "The flashcard data can be found here: https://docs.google.com/spreadsheets/d/1hMq5J5g2K9PYgmp8Eyo3WJ4okGtxE1z2C3xccoJ5jvY/edit?usp=sharing\n",
    "\n",
    "Please add more items to help you and others learn the ideas we cover.  Rules for adding data: keep cell `A1` as `command`, keep cell `B2` as `description`, and don't add anything but commands and descriptions below your data in columns `A` and `B`."
   ]
  },
  {
   "cell_type": "markdown",
   "metadata": {},
   "source": [
    "-------\n",
    "\n",
    "* Load the `time` module\n",
    "* Load the `pandas` module aliased as `pd`\n",
    "* Load the `openpyxl` module (you might need to install)"
   ]
  },
  {
   "cell_type": "code",
   "execution_count": null,
   "metadata": {},
   "outputs": [],
   "source": []
  },
  {
   "cell_type": "markdown",
   "metadata": {},
   "source": [
    "What tool installs packages? What does it stand for?"
   ]
  },
  {
   "cell_type": "code",
   "execution_count": null,
   "metadata": {},
   "outputs": [],
   "source": [
    "# If you need to install, do it in this cell\n",
    "# After you install: DELETE OR COMMENT OUT THE LINE\n",
    "#                    don't reinstall a package needlessly\n",
    "#                    every time you run a notebook"
   ]
  },
  {
   "cell_type": "markdown",
   "metadata": {},
   "source": [
    "## Reading and cleaning flashcard data"
   ]
  },
  {
   "cell_type": "markdown",
   "metadata": {},
   "source": [
    "Here is the link to our flashcard data: \n",
    "\n",
    "```\n",
    "https://docs.google.com/spreadsheets/d/1hMq5J5g2K9PYgmp8Eyo3WJ4okGtxE1z2C3xccoJ5jvY/edit?usp=sharing\n",
    "```\n",
    "\n",
    "You can make this readable from Python/R/other places by changing `edit?usp=sharing` to `export?format=csv` or `export?format=xlsx`.\n",
    "\n",
    "We want to make a URL to download the file as an `.xlsx`.\n",
    "\n",
    "Store the URL in a variable called `xl_url`"
   ]
  },
  {
   "cell_type": "code",
   "execution_count": null,
   "metadata": {},
   "outputs": [],
   "source": [
    "# xl_url = ???\n",
    "\n",
    "# # If you click on the printed link it will download the xl file\n",
    "# print(xl_url)"
   ]
  },
  {
   "cell_type": "markdown",
   "metadata": {},
   "source": [
    "Read in the data with `xl_url` and `pandas.read_excel` (this function requires the `openpyxl` module to be installed)."
   ]
  },
  {
   "cell_type": "code",
   "execution_count": null,
   "metadata": {},
   "outputs": [],
   "source": [
    "# xl_sheets = ???"
   ]
  },
  {
   "cell_type": "markdown",
   "metadata": {},
   "source": [
    "What kind of object is `xl_sheets`?"
   ]
  },
  {
   "cell_type": "code",
   "execution_count": null,
   "metadata": {},
   "outputs": [],
   "source": []
  },
  {
   "cell_type": "markdown",
   "metadata": {},
   "source": [
    "It's a ______! An example of a \"key value store\"; just like how our `credentials.json` file is:\n",
    "\n",
    "```json\n",
    "{\n",
    "  \"host\": \"some.place.edu\",\n",
    "  \"port\": 3306\n",
    "}\n",
    "```\n",
    "\n",
    "In python:\n",
    "\n",
    "```py\n",
    "x = {\"host\": \"some.place.edu\", \"port\": 3306}\n",
    "print(x)\n",
    "```"
   ]
  },
  {
   "cell_type": "markdown",
   "metadata": {},
   "source": [
    "Show all of the \"keys\" to `xl_sheets`."
   ]
  },
  {
   "cell_type": "code",
   "execution_count": null,
   "metadata": {},
   "outputs": [],
   "source": []
  },
  {
   "cell_type": "markdown",
   "metadata": {},
   "source": [
    "Delete the `\"CoverSheet\"` item from the `xl_sheets` dictionary."
   ]
  },
  {
   "cell_type": "code",
   "execution_count": null,
   "metadata": {},
   "outputs": [],
   "source": []
  },
  {
   "cell_type": "markdown",
   "metadata": {},
   "source": [
    "Save just your data to a variable called `my_flashcards` and display the data.frame."
   ]
  },
  {
   "cell_type": "code",
   "execution_count": null,
   "metadata": {},
   "outputs": [],
   "source": []
  },
  {
   "cell_type": "markdown",
   "metadata": {},
   "source": [
    "Combine the `flash_cards` list of data.frames into a single large dataframe called `all_flashcards`."
   ]
  },
  {
   "cell_type": "code",
   "execution_count": null,
   "metadata": {},
   "outputs": [],
   "source": [
    "# flash_cards = list(xl_sheets.values())\n",
    "# all_flashcards = ???"
   ]
  },
  {
   "cell_type": "markdown",
   "metadata": {},
   "source": [
    "Inspect `all_flashcards`."
   ]
  },
  {
   "cell_type": "code",
   "execution_count": null,
   "metadata": {},
   "outputs": [],
   "source": []
  },
  {
   "cell_type": "markdown",
   "metadata": {},
   "source": [
    "What data cleaning steps should we take care of? (i thought of at least 5):\n",
    "\n",
    "1. \\_\\_\\_\\_\\_\n",
    "2. \\_\\_\\_\\_\\_\n",
    "3. \\_\\_\\_\\_\\_\n",
    "4. \\_\\_\\_\\_\\_\n",
    "5. Remove entries with `\"...\"` as the description"
   ]
  },
  {
   "cell_type": "markdown",
   "metadata": {},
   "source": [
    "Clean up the data for use!"
   ]
  },
  {
   "cell_type": "code",
   "execution_count": null,
   "metadata": {},
   "outputs": [],
   "source": []
  },
  {
   "cell_type": "markdown",
   "metadata": {},
   "source": [
    "## Using the flashcards"
   ]
  },
  {
   "cell_type": "markdown",
   "metadata": {},
   "source": [
    "Run and re-run and re-run this cell to study our flashcards.  \n",
    "\n",
    "* Change the value of deck to be whatever you'd like (2 options shown below)\n",
    "* Change the delay between 1st and 2nd print\n",
    "* Change the order of the prints to see the `command` first instead of the `description`"
   ]
  },
  {
   "cell_type": "code",
   "execution_count": null,
   "metadata": {},
   "outputs": [],
   "source": [
    "# Set the deck to study\n",
    "# deck = my_flashcards\n",
    "deck = all_flashcards\n",
    "\n",
    "# How long to pause after showing definition (in seconds)\n",
    "delay = 7\n",
    "\n",
    "# Grab a random card\n",
    "rand_card = deck.sample(1)\n",
    "\n",
    "# Pull out the entry and definition for the card\n",
    "command = deck[\"command\"].values[0]\n",
    "description = deck[\"description\"].values[0]\n",
    "\n",
    "\n",
    "print(description)\n",
    "time.sleep(delay)\n",
    "print(\"\\n\" + command)"
   ]
  },
  {
   "cell_type": "markdown",
   "metadata": {},
   "source": [
    "## Reviewing python basics"
   ]
  },
  {
   "cell_type": "markdown",
   "metadata": {},
   "source": [
    "But first, one more pandas thing...\n",
    "\n",
    "Create two lists called `descriptions` and `commands` that hold those respective columns from the `all_flashcards` data.frame."
   ]
  },
  {
   "cell_type": "code",
   "execution_count": null,
   "metadata": {},
   "outputs": [],
   "source": [
    "# descriptions = ???\n",
    "# commands = ???"
   ]
  },
  {
   "cell_type": "markdown",
   "metadata": {},
   "source": [
    "### List practice"
   ]
  },
  {
   "cell_type": "markdown",
   "metadata": {},
   "source": [
    "How many `commands` are there?"
   ]
  },
  {
   "cell_type": "code",
   "execution_count": null,
   "metadata": {},
   "outputs": [],
   "source": []
  },
  {
   "cell_type": "markdown",
   "metadata": {},
   "source": [
    "Show the first entry in `commands`."
   ]
  },
  {
   "cell_type": "code",
   "execution_count": null,
   "metadata": {},
   "outputs": [],
   "source": []
  },
  {
   "cell_type": "markdown",
   "metadata": {},
   "source": [
    "Show the first 3 entries in `commands`"
   ]
  },
  {
   "cell_type": "code",
   "execution_count": null,
   "metadata": {},
   "outputs": [],
   "source": []
  },
  {
   "cell_type": "markdown",
   "metadata": {},
   "source": [
    "Show the 2nd, 3rd, and 4th entries in `commands`"
   ]
  },
  {
   "cell_type": "code",
   "execution_count": null,
   "metadata": {},
   "outputs": [],
   "source": []
  },
  {
   "cell_type": "markdown",
   "metadata": {},
   "source": [
    "Show the last 5 entries in `commands`."
   ]
  },
  {
   "cell_type": "code",
   "execution_count": null,
   "metadata": {},
   "outputs": [],
   "source": []
  },
  {
   "cell_type": "markdown",
   "metadata": {},
   "source": [
    "Show the description in the dead center of `descriptions`."
   ]
  },
  {
   "cell_type": "code",
   "execution_count": null,
   "metadata": {},
   "outputs": [],
   "source": []
  },
  {
   "cell_type": "markdown",
   "metadata": {},
   "source": [
    "What does the code below do?  What should the code output?\n",
    "\n",
    "```py\n",
    "len(commands[::5])\n",
    "```"
   ]
  },
  {
   "cell_type": "code",
   "execution_count": null,
   "metadata": {},
   "outputs": [],
   "source": []
  },
  {
   "cell_type": "markdown",
   "metadata": {},
   "source": [
    "How many flashcards are there for `rm`?"
   ]
  },
  {
   "cell_type": "code",
   "execution_count": null,
   "metadata": {},
   "outputs": [],
   "source": []
  },
  {
   "cell_type": "markdown",
   "metadata": {},
   "source": [
    "Create a sorted version of `commands`, what's the last term alphabetically?  Why would `commands.sort()` potentially be a bad idea here?"
   ]
  },
  {
   "cell_type": "code",
   "execution_count": null,
   "metadata": {},
   "outputs": [],
   "source": []
  },
  {
   "cell_type": "markdown",
   "metadata": {},
   "source": [
    "Create a sorted version of `descriptions`, sorted by length of the entry."
   ]
  },
  {
   "cell_type": "code",
   "execution_count": null,
   "metadata": {},
   "outputs": [],
   "source": []
  },
  {
   "cell_type": "markdown",
   "metadata": {},
   "source": [
    "Add my new command and description to your lists and print something to prove it worked."
   ]
  },
  {
   "cell_type": "code",
   "execution_count": null,
   "metadata": {},
   "outputs": [],
   "source": [
    "new_command = \"import pkg as alias\"\n",
    "new_description = \"how to load a python module under a new alias\""
   ]
  },
  {
   "cell_type": "markdown",
   "metadata": {},
   "source": [
    "Add my new commands and descriptions to your lists and print something to prove it worked."
   ]
  },
  {
   "cell_type": "code",
   "execution_count": null,
   "metadata": {},
   "outputs": [],
   "source": [
    "new_entries = [\"df.shape\", \"df.columns\"]\n",
    "new_defs = [\n",
    "    \"how to see the num rows and cols in a pandas df\",\n",
    "    \"how to see all the column names for a pandas df\",\n",
    "]"
   ]
  },
  {
   "cell_type": "markdown",
   "metadata": {},
   "source": [
    "Why would doing the thing below potentially be a bad idea?  How could I avoid the issue that this creates?\n",
    "\n",
    "```py\n",
    "adams_descs = descriptions\n",
    "adams_descs[0] = \"¯\\\\_(ツ)_/¯\"\n",
    "```"
   ]
  },
  {
   "cell_type": "code",
   "execution_count": null,
   "metadata": {},
   "outputs": [],
   "source": []
  },
  {
   "cell_type": "markdown",
   "metadata": {},
   "source": [
    "### Math practice"
   ]
  },
  {
   "cell_type": "markdown",
   "metadata": {},
   "source": [
    "I want to print out the flashcards.  What would be the total volume of the printed stack of flashcards? \n",
    "\n",
    "I'd be using 3 by 5 inch notecards (they're 0.1 millimeters thick)"
   ]
  },
  {
   "cell_type": "code",
   "execution_count": null,
   "metadata": {},
   "outputs": [],
   "source": [
    "# Prolly skip in class; doesn't really show any unique python features"
   ]
  },
  {
   "cell_type": "markdown",
   "metadata": {},
   "source": [
    "I want to split my flashcards into packs of 5. How many cards would be left out?"
   ]
  },
  {
   "cell_type": "code",
   "execution_count": null,
   "metadata": {},
   "outputs": [],
   "source": []
  },
  {
   "cell_type": "markdown",
   "metadata": {},
   "source": [
    "I can't think of a flash card prompt for this.  Define a numeric variable `x` and show some of the \"assignment operators\"."
   ]
  },
  {
   "cell_type": "code",
   "execution_count": null,
   "metadata": {},
   "outputs": [],
   "source": []
  },
  {
   "cell_type": "markdown",
   "metadata": {},
   "source": [
    "Square `x`, divide by `2`, and then round to the nearest integer."
   ]
  },
  {
   "cell_type": "code",
   "execution_count": null,
   "metadata": {},
   "outputs": [],
   "source": []
  },
  {
   "cell_type": "markdown",
   "metadata": {},
   "source": [
    "### Debugging practice\n",
    "\n",
    "Don't edit before running the code! Even if you see something to fix.  Practice reading error messages and connecting them to the issue.\n",
    "\n",
    "Run the code, read the error, edit code to fix *just* the error show, and then repeat. "
   ]
  },
  {
   "cell_type": "markdown",
   "metadata": {},
   "source": [
    "#### Case 1"
   ]
  },
  {
   "cell_type": "code",
   "execution_count": null,
   "metadata": {},
   "outputs": [],
   "source": [
    "x = \"blah blah blah blah\"\n",
    "\n",
    "math.floor(length(x) / 5)"
   ]
  },
  {
   "cell_type": "markdown",
   "metadata": {},
   "source": [
    "#### Case 2"
   ]
  },
  {
   "cell_type": "code",
   "execution_count": null,
   "metadata": {},
   "outputs": [],
   "source": [
    "i = 1000\n",
    "\n",
    "files = os.listdir()\n",
    "files.sort()\n",
    "\n",
    "`file number` + i + `is` + files[i]"
   ]
  }
 ],
 "metadata": {
  "kernelspec": {
   "display_name": "Python 3",
   "language": "python",
   "name": "python3"
  },
  "language_info": {
   "codemirror_mode": {
    "name": "ipython",
    "version": 3
   },
   "file_extension": ".py",
   "mimetype": "text/x-python",
   "name": "python",
   "nbconvert_exporter": "python",
   "pygments_lexer": "ipython3",
   "version": "3.11.5"
  },
  "orig_nbformat": 4
 },
 "nbformat": 4,
 "nbformat_minor": 2
}
